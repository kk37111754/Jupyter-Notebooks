{
 "cells": [
  {
   "cell_type": "markdown",
   "id": "2acfc23a",
   "metadata": {
    "ExecuteTime": {
     "end_time": "2022-04-16T06:23:08.720981Z",
     "start_time": "2022-04-16T06:23:08.715239Z"
    }
   },
   "source": [
    "http://localhost:8888/tree/4.%20%E6%9C%BA%E5%99%A8%E5%AD%A6%E4%B9%A0%E8%AE%AD%E7%BB%83%E8%90%A5/Machine-Learning-With-Python/Artificial-master"
   ]
  },
  {
   "attachments": {},
   "cell_type": "markdown",
   "id": "e0420c69",
   "metadata": {},
   "source": [
    "![tDPQyD](https://upiclw.oss-cn-beijing.aliyuncs.com/uPic/tDPQyD.png)"
   ]
  },
  {
   "cell_type": "code",
   "execution_count": null,
   "id": "41bef40f",
   "metadata": {},
   "outputs": [],
   "source": []
  }
 ],
 "metadata": {
  "kernelspec": {
   "display_name": "Python 3 (ipykernel)",
   "language": "python",
   "name": "python3"
  },
  "language_info": {
   "codemirror_mode": {
    "name": "ipython",
    "version": 3
   },
   "file_extension": ".py",
   "mimetype": "text/x-python",
   "name": "python",
   "nbconvert_exporter": "python",
   "pygments_lexer": "ipython3",
   "version": "3.9.7"
  },
  "toc": {
   "base_numbering": 1,
   "nav_menu": {},
   "number_sections": true,
   "sideBar": true,
   "skip_h1_title": false,
   "title_cell": "Table of Contents",
   "title_sidebar": "Contents",
   "toc_cell": false,
   "toc_position": {},
   "toc_section_display": true,
   "toc_window_display": false
  },
  "varInspector": {
   "cols": {
    "lenName": 16,
    "lenType": 16,
    "lenVar": 40
   },
   "kernels_config": {
    "python": {
     "delete_cmd_postfix": "",
     "delete_cmd_prefix": "del ",
     "library": "var_list.py",
     "varRefreshCmd": "print(var_dic_list())"
    },
    "r": {
     "delete_cmd_postfix": ") ",
     "delete_cmd_prefix": "rm(",
     "library": "var_list.r",
     "varRefreshCmd": "cat(var_dic_list()) "
    }
   },
   "types_to_exclude": [
    "module",
    "function",
    "builtin_function_or_method",
    "instance",
    "_Feature"
   ],
   "window_display": false
  }
 },
 "nbformat": 4,
 "nbformat_minor": 5
}
