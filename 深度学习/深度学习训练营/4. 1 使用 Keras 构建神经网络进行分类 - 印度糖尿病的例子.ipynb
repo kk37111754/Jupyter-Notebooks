{
 "cells": [
  {
   "cell_type": "markdown",
   "id": "ba427cb8",
   "metadata": {},
   "source": [
    "# 4. 使用 Keras 构建神经网络进行分类 - 印度糖尿病的例子\n",
    "\n",
    "在这篇文章中，我们将逐步学习使用 keras 库构建神经网络进行分类的方法。\n",
    "\n",
    "![ls1QvZ](https://upiclw.oss-cn-beijing.aliyuncs.com/uPic/ls1QvZ.jpg)\n",
    "\n",
    "## 什么是 Keras？\n",
    "\n",
    "* Keras 是一个用 Python 编写的高级神经网络 API(high-level neural network API)。\n",
    "* 它能够在 Tensorflow、CNTK 或 Theano 之上(on top of)运行。\n",
    "* Keras 可以用作深度学习库。支持卷积(Convolutional)和递归神经网络(Recurrent Neural Networks)\n",
    "* 使用 Keras 进行原型制作(Prototyping)既快速又简单\n",
    "* 在 CPU 和 GPU 上无缝运行\n",
    "\n",
    "## 一个简单的二分类神经网络\n",
    "\n",
    "我们将构建一个用于二进制分类的神经网络。\n",
    "\n",
    "对于二元分类，我们将使用 [Pima Indians 糖尿病数据库](https://raw.githubusercontent.com/jbrownlee/Datasets/master/pima-indians-diabetes.data.csv)进行二元分类。\n",
    "\n",
    "有 768 个观测值，有 8 个输入变量和 1 个输出变量。\n",
    "\n",
    "变量名称如下：\n",
    "* 怀孕(pregnant)的次数。\n",
    "* 口服葡萄糖耐量试验中 2 小时的血浆葡萄糖浓度/Plasma glucose concentration a 2 hours in an oral glucose tolerance test。\n",
    "* 舒张压/Diastolic blood pressure  (mm Hg)。\n",
    "* 三头肌皮褶厚度/Triceps skinfold thickness（mm）。\n",
    "* 2 小时血清胰岛素/2-Hour serum insulin (mu U/ml)。\n",
    "* 体重指数/Body mass index（体重公斤/（身高米）²）。\n",
    "* 糖尿病谱系功能/Diabetes pedigree function。\n",
    "* 年龄/Age（岁）。\n",
    "* 类变量/Class variable（0 或 1）。\n",
    "\n",
    "我们将首先导入基本库 -pandas 和 numpy 以及数据可视化库 matplotlib 和 seaborn。其他库将在使用时导入。"
   ]
  },
  {
   "cell_type": "code",
   "execution_count": null,
   "id": "0826cf5e",
   "metadata": {},
   "outputs": [],
   "source": [
    "import numpy as np\n",
    "import pandas as pd\n",
    "import seaborn as sns\n",
    "import matplotlib.pyplot as plt\n",
    "%matplotlib inline"
   ]
  },
  {
   "cell_type": "markdown",
   "id": "6f729cfb",
   "metadata": {},
   "source": [
    "我们现在将读取文件并将数据加载到 DataFrame 数据集中"
   ]
  },
  {
   "cell_type": "code",
   "execution_count": 1,
   "id": "0aae50a7",
   "metadata": {
    "ExecuteTime": {
     "end_time": "2022-04-17T01:52:18.747803Z",
     "start_time": "2022-04-17T01:52:18.683240Z"
    }
   },
   "outputs": [
    {
     "ename": "NameError",
     "evalue": "name 'pd' is not defined",
     "output_type": "error",
     "traceback": [
      "\u001b[0;31m---------------------------------------------------------------------------\u001b[0m",
      "\u001b[0;31mNameError\u001b[0m                                 Traceback (most recent call last)",
      "\u001b[0;32m/var/folders/gx/cw6f2wv530vb4pswn4__lkn40000gn/T/ipykernel_53809/3179744097.py\u001b[0m in \u001b[0;36m<module>\u001b[0;34m\u001b[0m\n\u001b[0;32m----> 1\u001b[0;31m \u001b[0mdataset\u001b[0m \u001b[0;34m=\u001b[0m \u001b[0mpd\u001b[0m\u001b[0;34m.\u001b[0m\u001b[0mread_csv\u001b[0m\u001b[0;34m(\u001b[0m\u001b[0;34m'pima_indian_data.csv'\u001b[0m\u001b[0;34m)\u001b[0m\u001b[0;34m\u001b[0m\u001b[0;34m\u001b[0m\u001b[0m\n\u001b[0m",
      "\u001b[0;31mNameError\u001b[0m: name 'pd' is not defined"
     ]
    }
   ],
   "source": [
    "dataset = pd.read_csv('pima_indian_data.csv')"
   ]
  },
  {
   "cell_type": "markdown",
   "id": "a294e9a3",
   "metadata": {},
   "source": [
    "为了更好地理解数据，让我们查看数据集的详细信息。我们需要了解列以及与每列关联的数据类型。"
   ]
  },
  {
   "cell_type": "code",
   "execution_count": null,
   "id": "810b8800",
   "metadata": {},
   "outputs": [],
   "source": [
    "dataset.head(2)"
   ]
  },
  {
   "cell_type": "markdown",
   "id": "8f9041fe",
   "metadata": {},
   "source": [
    "![uwe7C9](https://upiclw.oss-cn-beijing.aliyuncs.com/uPic/uwe7C9.jpg)"
   ]
  },
  {
   "cell_type": "code",
   "execution_count": null,
   "id": "f6d96097",
   "metadata": {},
   "outputs": [],
   "source": [
    "dataset.describe(include='all')"
   ]
  },
  {
   "cell_type": "markdown",
   "id": "e56c6ace",
   "metadata": {},
   "source": [
    "![EPsJE1](https://upiclw.oss-cn-beijing.aliyuncs.com/uPic/EPsJE1.jpg)\n",
    "\n",
    "我们可以看到所有特征都是数字的，没有任何分类数据。由于我们没有任何分类变量，我们不需要分类变量的任何数据转换。\n",
    "\n",
    "我们将数据可视化以便更好地理解。我们使用 **seaborn pairplot** 绘制数据，使用属性 `hue` 将两个类以不同的颜色绘制。"
   ]
  },
  {
   "cell_type": "code",
   "execution_count": null,
   "id": "acb64169",
   "metadata": {},
   "outputs": [],
   "source": [
    "sns.pairplot(dataset, hue='Class')"
   ]
  },
  {
   "cell_type": "markdown",
   "id": "86ea5c86",
   "metadata": {},
   "source": [
    "![HdE1Qj](https://upiclw.oss-cn-beijing.aliyuncs.com/uPic/HdE1Qj.jpg)\n",
    "\n",
    "我们使用数据集的相关性绘制热图(heatmap)。这有助于我们消除任何可能无助于预测的特征。"
   ]
  },
  {
   "cell_type": "code",
   "execution_count": null,
   "id": "8c7263ce",
   "metadata": {},
   "outputs": [],
   "source": [
    "sns.heatmap(dataset.corr(), annot=True)"
   ]
  },
  {
   "cell_type": "markdown",
   "id": "519ab4f1",
   "metadata": {},
   "source": [
    "![tLZXxl](https://upiclw.oss-cn-beijing.aliyuncs.com/uPic/tLZXxl.jpg)\n",
    "\n",
    "我们看到所有功能都与 Class 有某种关系，因此我们保留了所有功能。血浆葡萄糖(Plasma glucose)与分类/Class（是否患有糖尿病）的关系最强。年龄(Age)和体重指数(Body Mass Index)也是强大的影响因素。\n",
    "\n",
    "现在我们了解了数据，让我们创建输入特征和目标变量，并通过预处理数据准备好将其输入到我们的神经网络中的数据。"
   ]
  },
  {
   "cell_type": "code",
   "execution_count": null,
   "id": "6d794865",
   "metadata": {},
   "outputs": [],
   "source": [
    "# creating input features and target variables\n",
    "X= dataset.iloc[:,0:8]\n",
    "y= dataset.iloc[:,8]"
   ]
  },
  {
   "cell_type": "markdown",
   "id": "dc8f5c05",
   "metadata": {},
   "source": [
    "让我们看看我们的输入特征"
   ]
  },
  {
   "cell_type": "code",
   "execution_count": null,
   "id": "00c91c0f",
   "metadata": {},
   "outputs": [],
   "source": [
    "X.head(2)"
   ]
  },
  {
   "cell_type": "markdown",
   "id": "53eb5aa7",
   "metadata": {},
   "source": [
    "![QZogTg](https://upiclw.oss-cn-beijing.aliyuncs.com/uPic/QZogTg.jpg)\n",
    "\n",
    "由于我们的输入特征处于不同的尺度(different scales)，我们需要对输入进行标准化(standardize)。"
   ]
  },
  {
   "cell_type": "code",
   "execution_count": null,
   "id": "12827b08",
   "metadata": {},
   "outputs": [],
   "source": [
    "#standardizing the input feature\n",
    "from sklearn.preprocessing import StandardScaler\n",
    "sc = StandardScaler()\n",
    "X = sc.fit_transform(X)\n",
    "X\n"
   ]
  },
  {
   "cell_type": "markdown",
   "id": "98c0dd75",
   "metadata": {},
   "source": [
    "![VOcjLP](https://upiclw.oss-cn-beijing.aliyuncs.com/uPic/VOcjLP.jpg)\n",
    "\n",
    "Standardized input features\n",
    "\n",
    "我们现在将输入特征和目标变量拆分为训练数据集和测试数据集。测试数据集将占我们整个数据集的 30%。"
   ]
  },
  {
   "cell_type": "code",
   "execution_count": null,
   "id": "e9629535",
   "metadata": {},
   "outputs": [],
   "source": [
    "from sklearn.model_selection import train_test_split\n",
    "X_train, X_test, y_train, y_test = train_test_split(X, y, test_size=0.3)"
   ]
  },
  {
   "cell_type": "markdown",
   "id": "31359bc0",
   "metadata": {},
   "source": [
    "我们已经对数据进行了预处理，现在可以构建神经网络(neural network)了。\n",
    "\n",
    "我们正在使用 keras 来构建我们的神经网络。我们导入 keras 库来创建神经网络层。\n",
    "\n",
    "keras 中有两种主要的模型类型——序列(Sequential)模型和模型。我们将使用序列模型来构建我们的神经网络。\n",
    "\n",
    "我们使用 **Dense** 库来构建神经网络的输入、隐藏和输出层。"
   ]
  },
  {
   "cell_type": "code",
   "execution_count": null,
   "id": "334c7e64",
   "metadata": {},
   "outputs": [],
   "source": [
    "from keras import Sequential\n",
    "from keras.layers import Dense"
   ]
  },
  {
   "cell_type": "markdown",
   "id": "c0d0fe2a",
   "metadata": {},
   "source": [
    "我们有 8 个输入特征(input features)和一个目标变量(one target variable)。 2 隐藏层(Hidden layers)。每个隐藏层将有 4 个节点(nodes)。\n",
    "\n",
    "**ReLu** 将是隐藏层的激活函数。由于这是一个二元分类问题，我们将使用 **sigmoid** 作为激活函数。\n",
    "\n",
    "密集层实现\n",
    "\n",
    "**output = activation(dot(input, kernel) + bias)**\n",
    "\n",
    "kernel 是权重矩阵。内核/kernel 初始化定义了设置 Keras 层的初始随机权重的方式。\n",
    "\n",
    "随机正态初始化器生成具有正态分布的张量(Random normal initializer generates tensors with a normal distribution.)。\n",
    "\n",
    "对于均匀分布，我们可以使用随机均匀初始化器。\n",
    "\n",
    "Keras 为内核或权重以及偏置单元提供了多个初始化器。\n",
    "\n",
    "![UZ1yky](https://upiclw.oss-cn-beijing.aliyuncs.com/uPic/UZ1yky.jpg)"
   ]
  },
  {
   "cell_type": "code",
   "execution_count": null,
   "id": "331b6d25",
   "metadata": {},
   "outputs": [],
   "source": [
    "classifier = Sequential()\n",
    "#First Hidden Layer\n",
    "classifier.add(Dense(4, activation='relu', kernel_initializer='random_normal', input_dim=8))\n",
    "#Second  Hidden Layer\n",
    "classifier.add(Dense(4, activation='relu', kernel_initializer='random_normal'))\n",
    "#Output Layer\n",
    "classifier.add(Dense(1, activation='sigmoid', kernel_initializer='random_normal'))"
   ]
  },
  {
   "cell_type": "markdown",
   "id": "ea52b453",
   "metadata": {},
   "source": [
    "一旦创建了不同的层，我们现在就编译神经网络。\n",
    "\n",
    "由于这是一个二元分类问题，我们使用 **binary_crossentropy** 来计算实际输出和预测输出之间的损失函数。\n",
    "\n",
    "为了优化我们的神经网络，我们使用 **Adam**。 **Adam** 代表自适应矩估计(Adaptive moment estimation.)。 **Adam** 是 **RMSProp + Momentum** 的组合。\n",
    "\n",
    "动量/Momentum 考虑了过去的梯度，以平滑梯度下降。\n",
    "\n",
    "我们使用 准确性/accuracy 作为衡量模型性能的指标(measure the performance of the model)。"
   ]
  },
  {
   "cell_type": "code",
   "execution_count": null,
   "id": "aea030bd",
   "metadata": {},
   "outputs": [],
   "source": [
    "#Compiling the neural network\n",
    "classifier.compile(optimizer ='adam',loss='binary_crossentropy', metrics =['accuracy'])"
   ]
  },
  {
   "cell_type": "markdown",
   "id": "f616900c",
   "metadata": {},
   "source": [
    "我们现在将训练数据拟合(fit out )到我们创建的模型中。我们使用 10 的 batch_size。这意味着我们每次梯度更新使用 10 个样本。\n",
    "\n",
    "我们迭代了 100 多个 epoch 来训练模型。一个 epoch 是对整个数据集的迭代。"
   ]
  },
  {
   "cell_type": "code",
   "execution_count": null,
   "id": "c245c9e8",
   "metadata": {},
   "outputs": [],
   "source": [
    "#Fitting the data to the training dataset\n",
    "classifier.fit(X_train,y_train, batch_size=10, epochs=100)"
   ]
  },
  {
   "cell_type": "markdown",
   "id": "403fc1b9",
   "metadata": {},
   "source": [
    "在 100 个 epoch 之后，我们得到大约 80% 的准确率\n",
    "\n",
    "![VzLBma](https://upiclw.oss-cn-beijing.aliyuncs.com/uPic/VzLBma.jpg)\n",
    "\n",
    "我们还可以使用评估函数(evaluate function)在测试模式下评估模型的损失值( loss value)和指标值(metrics values for the model)."
   ]
  },
  {
   "cell_type": "code",
   "execution_count": null,
   "id": "2220537a",
   "metadata": {},
   "outputs": [],
   "source": [
    "eval_model=classifier.evaluate(X_train, y_train)\n",
    "eval_model"
   ]
  },
  {
   "cell_type": "markdown",
   "id": "20295172",
   "metadata": {},
   "source": [
    "我们现在预测(predict)测试数据集的输出。如果预测值(prediction)大于 0.5，则输出为 1，否则输出为 0"
   ]
  },
  {
   "cell_type": "code",
   "execution_count": null,
   "id": "d0e31ef2",
   "metadata": {},
   "outputs": [],
   "source": [
    "y_pred=classifier.predict(X_test)\n",
    "y_pred =(y_pred>0.5)"
   ]
  },
  {
   "cell_type": "markdown",
   "id": "27d2a265",
   "metadata": {},
   "source": [
    "现在是关键时刻。我们检查测试数据集的准确性"
   ]
  },
  {
   "cell_type": "code",
   "execution_count": null,
   "id": "6494ae70",
   "metadata": {},
   "outputs": [],
   "source": [
    "from sklearn.metrics import confusion_matrix\n",
    "cm = confusion_matrix(y_test, y_pred)\n",
    "print(cm)"
   ]
  },
  {
   "cell_type": "markdown",
   "id": "0d3e86a9",
   "metadata": {},
   "source": [
    "![exTbah](https://upiclw.oss-cn-beijing.aliyuncs.com/uPic/exTbah.jpg)\n",
    "\n",
    "真阳性(true positive)和真阴性( true negative)的总数是测试数据集中 231 个观察值中的 179 个。所以我们对测试数据集的准确率约为 78%。\n",
    "\n",
    "使用给定的输入，我们可以以 78% 的准确率预测该人是否患有糖尿病"
   ]
  }
 ],
 "metadata": {
  "kernelspec": {
   "display_name": "Python 3 (ipykernel)",
   "language": "python",
   "name": "python3"
  },
  "language_info": {
   "codemirror_mode": {
    "name": "ipython",
    "version": 3
   },
   "file_extension": ".py",
   "mimetype": "text/x-python",
   "name": "python",
   "nbconvert_exporter": "python",
   "pygments_lexer": "ipython3",
   "version": "3.9.7"
  },
  "toc": {
   "base_numbering": 1,
   "nav_menu": {},
   "number_sections": true,
   "sideBar": true,
   "skip_h1_title": false,
   "title_cell": "Table of Contents",
   "title_sidebar": "Contents",
   "toc_cell": false,
   "toc_position": {},
   "toc_section_display": true,
   "toc_window_display": false
  },
  "varInspector": {
   "cols": {
    "lenName": 16,
    "lenType": 16,
    "lenVar": 40
   },
   "kernels_config": {
    "python": {
     "delete_cmd_postfix": "",
     "delete_cmd_prefix": "del ",
     "library": "var_list.py",
     "varRefreshCmd": "print(var_dic_list())"
    },
    "r": {
     "delete_cmd_postfix": ") ",
     "delete_cmd_prefix": "rm(",
     "library": "var_list.r",
     "varRefreshCmd": "cat(var_dic_list()) "
    }
   },
   "types_to_exclude": [
    "module",
    "function",
    "builtin_function_or_method",
    "instance",
    "_Feature"
   ],
   "window_display": false
  }
 },
 "nbformat": 4,
 "nbformat_minor": 5
}
